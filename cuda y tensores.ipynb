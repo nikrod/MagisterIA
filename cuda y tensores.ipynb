{
  "nbformat": 4,
  "nbformat_minor": 0,
  "metadata": {
    "colab": {
      "name": "Untitled0.ipynb",
      "provenance": [],
      "authorship_tag": "ABX9TyPm2Ck4gTLcX+lK4hb89Ap4",
      "include_colab_link": true
    },
    "kernelspec": {
      "name": "python3",
      "display_name": "Python 3"
    },
    "language_info": {
      "name": "python"
    },
    "accelerator": "GPU"
  },
  "cells": [
    {
      "cell_type": "markdown",
      "metadata": {
        "id": "view-in-github",
        "colab_type": "text"
      },
      "source": [
        "<a href=\"https://colab.research.google.com/github/nikrod/MagisterIA/blob/master/cuda%20y%20tensores.ipynb\" target=\"_parent\"><img src=\"https://colab.research.google.com/assets/colab-badge.svg\" alt=\"Open In Colab\"/></a>"
      ]
    },
    {
      "cell_type": "code",
      "metadata": {
        "colab": {
          "base_uri": "https://localhost:8080/"
        },
        "id": "P-yBY4FQ0i2U",
        "outputId": "c964e8d8-ec6b-4fab-fea8-b124ce821e4f"
      },
      "source": [
        "import torch\n",
        "#device = torch.cuda.current_device()\n",
        "cuda0 = torch.device('cuda:0')\n",
        "\n",
        "A = [[1,2,3], [4,5,6], [7,8,9]]\n",
        "B = [[10,11,12], [13,14,15], [16,17,18]]\n",
        "tensorA = torch.tensor(A, device=cuda0).type(torch.float)\n",
        "tensorB = torch.tensor(B, device=cuda0).type(torch.float)\n",
        "print(tensorA)\n",
        "print(tensorB)\n",
        "\n",
        "z = torch.matmul(tensorA,tensorB)\n",
        "print(z)\n",
        "\n"
      ],
      "execution_count": null,
      "outputs": [
        {
          "output_type": "stream",
          "text": [
            "tensor([[1., 2., 3.],\n",
            "        [4., 5., 6.],\n",
            "        [7., 8., 9.]], device='cuda:0')\n",
            "tensor([[10., 11., 12.],\n",
            "        [13., 14., 15.],\n",
            "        [16., 17., 18.]], device='cuda:0')\n",
            "tensor([[ 84.,  90.,  96.],\n",
            "        [201., 216., 231.],\n",
            "        [318., 342., 366.]], device='cuda:0')\n"
          ],
          "name": "stdout"
        }
      ]
    }
  ]
}