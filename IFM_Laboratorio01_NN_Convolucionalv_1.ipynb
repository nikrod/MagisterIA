{
  "nbformat": 4,
  "nbformat_minor": 0,
  "metadata": {
    "colab": {
      "name": "IFM_Laboratorio01_NN_Convolucionalv.1.ipynb",
      "provenance": [],
      "collapsed_sections": [],
      "toc_visible": true,
      "include_colab_link": true
    },
    "kernelspec": {
      "name": "python3",
      "display_name": "Python 3"
    }
  },
  "cells": [
    {
      "cell_type": "markdown",
      "metadata": {
        "id": "view-in-github",
        "colab_type": "text"
      },
      "source": [
        "<a href=\"https://colab.research.google.com/github/nikrod/MagisterIA/blob/master/IFM_Laboratorio01_NN_Convolucionalv_1.ipynb\" target=\"_parent\"><img src=\"https://colab.research.google.com/assets/colab-badge.svg\" alt=\"Open In Colab\"/></a>"
      ]
    },
    {
      "cell_type": "markdown",
      "metadata": {
        "id": "Asr65adWXS5P"
      },
      "source": [
        "![tiny-uai.jpeg](data:image/jpeg;base64,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)\n",
        "\n",
        "#**Laboratorio 01:** Clasificación lineal multiclase y redes neuronales convolucionales\n",
        "\n",
        "**Fecha de Entrega:** 23 de abril de 2021\n",
        "\n",
        "# Integrante(s): \n",
        "(*3 alumnos como máximo*)\n",
        "\n",
        "\n",
        "1.   Alumno 01\n",
        "2.   Alumno 02 (Opcional)\n",
        "3.   Alumno 03 (Opcional)\n",
        "\n",
        "\n",
        "# 1. Introducción\n",
        "\n",
        "##1.1 Descripción del problema\n",
        "\n",
        "Dada la base de datos vista en clases de imágenes de perros y gatos, se desea comparar el rendimiento de un clasificador lineal multiclase con respecto a un clasificador basado en redes neuronales profunda del tipo convolucional multiclase. \n",
        "\n",
        "Para realizar este trabajo, debe implementar ambos clasificadores utilizando el código visto en clases.\n",
        "\n",
        "El documento de laboratorio debe contener las siguientes secciones para explicar cada uno de los experimentos:\n",
        "\n",
        "*  **Librerías**: Debe indicar todas las librerías que serán utilizadas en el laboratorio. Prestando atención en **no colocar librerías** que no serán utilizadas en los experimentos.\n",
        "*  **Carga de la base de datos**: Incluye el código necesario para poder cargar los datos y la construcción de los _dataloader_.\n",
        "*  **Diseño del modelo**: Describir brevemente (en formato texto) la arquitectura de la red neuronal a implementar. Indicar la cantidad de datos de entrada, capas ocultas, salidas, número de neuronas, etc.\n",
        "* **Parámetros y configuración del modelo**: Esta sección debe contener una breve explicación de los parámetros utilizados para la construcción del modelo y una implementación en pytorch.\n",
        "* **Entrenamiento y validación**: Se deben describir metodológicamente como se realizará el entrenamiento. Definir hiperparámetros, función de coste, etc. Además, debe implementar el código adecuado para la optimización de parámetros utilizando descenso de gradiente (estocástico u otro). \n",
        "* **Pruebas**: Implementar el código que permita probar los parámetros, hiperparámetros y modelo, obtenido en la etapa de aprendizaje (entrenamiento). \n",
        "* **Resultados**: Calcular las métricas de rendimiento del clasificador para la etapa de entrenamiento y para pruebas. Explique los resultados obtenidos. Utilice la matriz de confusión, presición, recall y tasa de acierto para explicar el comportamiento del modelo.\n",
        "* **Conclusiones**: La conclusión consiste en sintetizar brevemente los puntos más relevantes, aportando nuevos **conocimientos** explorados en el laboratorio. Las conclusiones no son un resumen de lo realizado sino a lo que ha llevado el desarrollo del proyecto, no perdiendo de vista los objetivos planteados desde el principio y los resultados obtenidos. Es usual concluir con lo que queda por hacer, o sugerencias para mejorar.\n",
        "\n",
        "\n",
        "##1.2   Objetivos\n",
        "\n",
        "### Objetivo general\n",
        "Comparar el rendimiento de dos clasificadores que sean capaces de predecir la existencia de un perro o un gato en una imagen.\n",
        "\n",
        "### Objetivos específicos\n",
        "1. Cargar las imágenes e etiquetas de una base de datos basada en directorios y subdirectorios.\n",
        "2. Entrenar un modelo lineal multiclase para detectar imágenes de perros y gatos.\n",
        "3. Entrenar un modelo basado en redes neuronales convolucionales para detectar imágenes de perros y gatos.\n",
        "4. Probar ambos modelos y obtener las métricas de rendimiento: Tasa de acierto (accuracy), precisión (), (recall). \n",
        "5. Comparar ambos modelos e indicar cual de los dos tiene el mejor comportamiento y porqué."
      ]
    },
    {
      "cell_type": "markdown",
      "metadata": {
        "id": "gUngl6EtU_rk"
      },
      "source": [
        "##1.3 Librerías "
      ]
    },
    {
      "cell_type": "code",
      "metadata": {
        "id": "pXRceJ_DXN_V"
      },
      "source": [
        "import torch\n",
        "import torch.nn as nn\n",
        "import torchvision\n",
        "from torchvision import transforms, datasets\n",
        "import numpy as np\n",
        "import PIL"
      ],
      "execution_count": null,
      "outputs": []
    },
    {
      "cell_type": "markdown",
      "metadata": {
        "id": "BvbtlFblVOLc"
      },
      "source": [
        "## 1.4 Carga de base de datos desde google drive"
      ]
    },
    {
      "cell_type": "code",
      "metadata": {
        "colab": {
          "base_uri": "https://localhost:8080/"
        },
        "id": "xFzvyyyrd-oy",
        "outputId": "0785f810-53d1-4d68-8198-01e53db0f0fc"
      },
      "source": [
        "from google.colab import drive\n",
        "drive.mount('/gdrive')\n",
        "%cd /gdrive"
      ],
      "execution_count": null,
      "outputs": [
        {
          "output_type": "stream",
          "text": [
            "Drive already mounted at /gdrive; to attempt to forcibly remount, call drive.mount(\"/gdrive\", force_remount=True).\n",
            "/gdrive\n"
          ],
          "name": "stdout"
        }
      ]
    },
    {
      "cell_type": "code",
      "metadata": {
        "id": "BdWiv6XwGK70",
        "colab": {
          "base_uri": "https://localhost:8080/"
        },
        "outputId": "c5164489-d821-4b9d-bd2b-f157e6818f68"
      },
      "source": [
        "from google.colab import drive\n",
        "drive.mount('/gdrive')\n",
        "%cd /gdrive"
      ],
      "execution_count": null,
      "outputs": [
        {
          "output_type": "stream",
          "text": [
            "Drive already mounted at /gdrive; to attempt to forcibly remount, call drive.mount(\"/gdrive\", force_remount=True).\n",
            "/gdrive\n"
          ],
          "name": "stdout"
        }
      ]
    },
    {
      "cell_type": "markdown",
      "metadata": {
        "id": "gvLpFNXKvAB-"
      },
      "source": [
        "Como se van a comparar dos modelos de clasificción, no se harán transformaciones en las imágenes. Tampoco se mezclará el conjunto de entrenamiento. Esto tienee como objetivo comparar ambos entrenamientos y modelos en las mismas condiciones. La idea detrás del laboratorio es encontrar los mejores parámetros e hiperparámtros para ambos modelos con los mismos datos para luego poder compararlos.\n"
      ]
    },
    {
      "cell_type": "code",
      "metadata": {
        "id": "MvURnXPhVV58",
        "colab": {
          "base_uri": "https://localhost:8080/"
        },
        "outputId": "cb9cdfec-26a7-4c61-c09a-cb31537b14b7"
      },
      "source": [
        "# Transformaciones sobre las imágenes\n",
        "\n",
        "\n",
        "batch_size = 32\n",
        "\n",
        "data_transform = transforms.Compose(\n",
        "        [transforms.Resize((28,28)),\n",
        "        transforms.Grayscale(num_output_channels=1),\n",
        "        transforms.ToTensor(),\n",
        "        transforms.Normalize(mean=[0.5], std=[0.5])])\n",
        "\n",
        "# Carga de las imágenes\n",
        "gatos_perros_train = datasets.ImageFolder(root='/content/drive/MyDrive/Magister IA/deep learning/dataset/training_set',\n",
        "                                           transform=data_transform)\n",
        "gatos_perros_valid = datasets.ImageFolder(root='/content/drive/MyDrive/Magister IA/deep learning/dataset/valid_set',\n",
        "                                           transform=data_transform)\n",
        "gatos_perros_test = datasets.ImageFolder(root='/content/drive/MyDrive/Magister IA/deep learning/dataset/training_set',\n",
        "                                           transform=data_transform)\n",
        "\n",
        "print(gatos_perros_train[0][0].shape) # 0 el primer gato o primer perro, el segundo indice corresponde a la etiqueta\n",
        "\n",
        "# Conjunto de entrenamiento\n",
        "train_loader = torch.utils.data.DataLoader(gatos_perros_train,\n",
        "                                             batch_size=32, shuffle=True,\n",
        "                                             num_workers=2)\n",
        "\n",
        "# Conjunto de validación\n",
        "#sirve para ajustar los hiperparametros\n",
        "valid_loader = torch.utils.data.DataLoader(gatos_perros_valid,\n",
        "                                             batch_size=32, shuffle=False,\n",
        "                                             num_workers=2)\n",
        "\n",
        "# Conjunto de pruebas\n",
        "test_loader = torch.utils.data.DataLoader(gatos_perros_test,\n",
        "                                             batch_size=32, shuffle=False,\n",
        "                                             num_workers=2)"
      ],
      "execution_count": null,
      "outputs": [
        {
          "output_type": "stream",
          "text": [
            "torch.Size([1, 28, 28])\n"
          ],
          "name": "stdout"
        }
      ]
    },
    {
      "cell_type": "markdown",
      "metadata": {
        "id": "mN5AF0YNi0JU"
      },
      "source": [
        "## 1.5 Visualizar las imágenes de la base de datos\n",
        "\n",
        "En ciencia de datos siempre es bueno revisar como se está cargando la base de datos con el fin de comprobar la consistencia de estos."
      ]
    },
    {
      "cell_type": "code",
      "metadata": {
        "colab": {
          "base_uri": "https://localhost:8080/",
          "height": 489
        },
        "id": "1qKEh2HjjHow",
        "outputId": "2216241b-77b2-4a33-ed02-67c78fff2991"
      },
      "source": [
        "import matplotlib.pyplot as plt\n",
        "import numpy as np\n",
        "\n",
        "plt.figure(num=None, figsize=(16, 14), dpi=80, facecolor='w', edgecolor='k')\n",
        "\n",
        "def imshow(img):\n",
        "  np_img = img.numpy()\n",
        "  plt.imshow(np.transpose(np_img, (1, 2, 0)))\n",
        "\n",
        "# Obtener imagenes\n",
        "data_iter = iter(train_loader)\n",
        "images, labels = data_iter.next()\n",
        "\n",
        "# Mostrar imagenes\n",
        "imshow(torchvision.utils.make_grid(images))"
      ],
      "execution_count": null,
      "outputs": [
        {
          "output_type": "stream",
          "text": [
            "Clipping input data to the valid range for imshow with RGB data ([0..1] for floats or [0..255] for integers).\n"
          ],
          "name": "stderr"
        },
        {
          "output_type": "display_data",
          "data": {
            "image/png": "[encoded data removed]",
            "text/plain": [
              "<Figure size 1280x1120 with 1 Axes>"
            ]
          },
          "metadata": {
            "tags": []
          }
        }
      ]
    },
    {
      "cell_type": "markdown",
      "metadata": {
        "id": "0mokBICxY50N"
      },
      "source": [
        "#2. Clasificador lineal multiclase\n",
        "\n",
        "Desarrollo de los experimentos para un clasificador lineal multiclase utilizando la base de datos de imágenes de perros y gatos vista en clases.\n"
      ]
    },
    {
      "cell_type": "markdown",
      "metadata": {
        "id": "RJcKp_PUVicE"
      },
      "source": [
        "## 2.1 Diseño del modelo propuesto\n",
        "\n",
        "Explicar arquitectura clasificador multiclase:\n",
        "* Entrada de datos\n",
        "* Modelo lineal propuesto\n",
        "* Salida esperada de datos\n",
        "\n",
        "## 2.2 Parámetros y configuración del modelo\n",
        "\n",
        "Explicar los parámetros e hiperparámetros seleccionados para la implementación del modelo, función de pérdida y modelo de optimización."
      ]
    },
    {
      "cell_type": "code",
      "metadata": {
        "id": "F1pgMrr1Y-BB",
        "colab": {
          "base_uri": "https://localhost:8080/"
        },
        "outputId": "6614e8bb-c5a4-47ab-cc4a-f508d2591c74"
      },
      "source": [
        "import torch\n",
        "import torch.nn as nn\n",
        "import torch.optim as optim\n",
        "\n",
        "# Implementar modelo (imagenes de 28x 28 y clasificacion de dos clases)\n",
        "\n",
        "linear_model = nn.Linear(784,2) \n",
        "#son 784 por las 28x28 correspondiente a cada imagen\n",
        "#el segundo parametro corresponde a las dimensiones\n",
        "\n",
        "\n",
        "#weight, bias = list(linear_model.parameters())\n",
        "#print(weight.shape)\n",
        "#print(bias.shape)\n",
        "print(linear_model)\n",
        "\n",
        "\n",
        "# Configurar hiperparámetros\n",
        "#hay que buscar los hiperparametros, probar learnign rate con un for para buscar el mas adecuado, este corresponde a los saltos del gradiente\n",
        "learning_rate = 0.01\n",
        "weight_decay = 0\n",
        "num_epochs = 10\n",
        "\n",
        "# Configurar función de pérdida\n",
        "\n",
        "criterion = nn.CrossEntropyLoss() #se usa este porque hay dos salidas y por eso no se usa el binary (se usaria si la salida fuera una)\n",
        "\n",
        "# Configurar modelo de optimización\n",
        "optimizer = optim.SGD(linear_model.parameters(), lr=learning_rate,weight_decay=weight_decay) #probar modelo adam o decesno estocastico"
      ],
      "execution_count": null,
      "outputs": [
        {
          "output_type": "stream",
          "text": [
            "Linear(in_features=784, out_features=2, bias=True)\n"
          ],
          "name": "stdout"
        }
      ]
    },
    {
      "cell_type": "markdown",
      "metadata": {
        "id": "2u0N07Nixk5O"
      },
      "source": [
        "## 3.3 Entrenamiento\n",
        "\n",
        "Implementar entrenamiento."
      ]
    },
    {
      "cell_type": "code",
      "metadata": {
        "id": "4uo-2PiXxk5d"
      },
      "source": [
        "def get_accuracy(model, data):\n",
        "    loader = torch.untils.data.DataLoader(data, batch_size=5000)\n",
        "    correct,total = 0,0\n",
        "    for xs. ts in loeader:\n",
        "        xs = xs.view(-1,784) #se convierte matriz en vector y se le puede dar la forma que uno necesite\n",
        "        zs = model (xs)\n",
        "        pred = zs.max(1, keepdim=True)[1] # se obtiene el indice de la clasificacion\n",
        "        correct += pred.eq(ts.view_as(pred)).sum().item()\n",
        "        total += int(ts.shape[0])\n",
        "    return correct / total"
      ],
      "execution_count": null,
      "outputs": []
    },
    {
      "cell_type": "code",
      "metadata": {
        "colab": {
          "base_uri": "https://localhost:8080/",
          "height": 255
        },
        "id": "RBV-dal__vbk",
        "outputId": "23974898-d5c0-432e-da7d-9ee42baf44e3"
      },
      "source": [
        "losses = [],[] #se guardan las perdidas por cada epoch\n",
        "iters_sub, train_acc, val_acc = [],[],[] #guarda la iteracion\n",
        "\n",
        "\n",
        "#falta buscar la funcion de perdida para validacion\n",
        "for epoch in range(num_epochs):\n",
        "    losses_it = []\n",
        "    for xs, ts in (\n",
        "        \n",
        "        \n",
        "    ):\n",
        "        if len(ts) != batch_size:\n",
        "            continue\n",
        "        xs = xs.view(-1,784)\n",
        "        zs = linear_model(xs)\n",
        "        loss = criterion(zs,ts)\n",
        "        loss.backward()\n",
        "        optimizer.step()\n",
        "        optimizer.zero_grad()\n",
        "        losses_it.append(float(loss)/batch_size)\n",
        "\n",
        "print(f'Epoch: {epoch}...', end='')\n",
        "#iter.append(n)\n",
        "losses.append(n)\n",
        "losses.append(sun(losses_it)/len(losses_it))\n",
        "iters_sub.append(epoch + 1)\n",
        "train_acc.append(get_accuracy(linear_model, gatos_perros_train))\n",
        "val_acc.append(get_accuracy(linear_model, gatos_perros_valid))\n",
        "        "
      ],
      "execution_count": null,
      "outputs": [
        {
          "output_type": "stream",
          "text": [
            "Epoch: 29..."
          ],
          "name": "stdout"
        },
        {
          "output_type": "error",
          "ename": "AttributeError",
          "evalue": "ignored",
          "traceback": [
            "\u001b[0;31m---------------------------------------------------------------------------\u001b[0m",
            "\u001b[0;31mAttributeError\u001b[0m                            Traceback (most recent call last)",
            "\u001b[0;32m<ipython-input-24-ffb491db75b1>\u001b[0m in \u001b[0;36m<module>\u001b[0;34m()\u001b[0m\n\u001b[1;32m     19\u001b[0m \u001b[0mprint\u001b[0m\u001b[0;34m(\u001b[0m\u001b[0;34mf'Epoch: {epoch}...'\u001b[0m\u001b[0;34m,\u001b[0m \u001b[0mend\u001b[0m\u001b[0;34m=\u001b[0m\u001b[0;34m''\u001b[0m\u001b[0;34m)\u001b[0m\u001b[0;34m\u001b[0m\u001b[0;34m\u001b[0m\u001b[0m\n\u001b[1;32m     20\u001b[0m \u001b[0;31m#iter.append(n)\u001b[0m\u001b[0;34m\u001b[0m\u001b[0;34m\u001b[0m\u001b[0;34m\u001b[0m\u001b[0m\n\u001b[0;32m---> 21\u001b[0;31m \u001b[0mlosses\u001b[0m\u001b[0;34m.\u001b[0m\u001b[0mappend\u001b[0m\u001b[0;34m(\u001b[0m\u001b[0mn\u001b[0m\u001b[0;34m)\u001b[0m\u001b[0;34m\u001b[0m\u001b[0;34m\u001b[0m\u001b[0m\n\u001b[0m\u001b[1;32m     22\u001b[0m \u001b[0mlosses\u001b[0m\u001b[0;34m.\u001b[0m\u001b[0mappend\u001b[0m\u001b[0;34m(\u001b[0m\u001b[0msun\u001b[0m\u001b[0;34m(\u001b[0m\u001b[0mlosses_it\u001b[0m\u001b[0;34m)\u001b[0m\u001b[0;34m/\u001b[0m\u001b[0mlen\u001b[0m\u001b[0;34m(\u001b[0m\u001b[0mlosses_it\u001b[0m\u001b[0;34m)\u001b[0m\u001b[0;34m)\u001b[0m\u001b[0;34m\u001b[0m\u001b[0;34m\u001b[0m\u001b[0m\n\u001b[1;32m     23\u001b[0m \u001b[0miters_sub\u001b[0m\u001b[0;34m.\u001b[0m\u001b[0mappend\u001b[0m\u001b[0;34m(\u001b[0m\u001b[0mepoch\u001b[0m \u001b[0;34m+\u001b[0m \u001b[0;36m1\u001b[0m\u001b[0;34m)\u001b[0m\u001b[0;34m\u001b[0m\u001b[0;34m\u001b[0m\u001b[0m\n",
            "\u001b[0;31mAttributeError\u001b[0m: 'tuple' object has no attribute 'append'"
          ]
        }
      ]
    },
    {
      "cell_type": "markdown",
      "metadata": {
        "id": "vZuq2Sv0zgO5"
      },
      "source": [
        "### Gráfico de función de pérdida del conjunto de entrenamiento y validación"
      ]
    },
    {
      "cell_type": "code",
      "metadata": {
        "id": "szuPGFawzgPa"
      },
      "source": [
        "#ploting\n",
        "plt.figure(figsize=(20,4))\n",
        "plt.title(\"curva de entrenamiento (batch_size={}, lr={})\".format(batch_size,learning_rate))\n",
        "plt.plot(iters_sub,losses, label=\"Entrenamiento\")"
      ],
      "execution_count": null,
      "outputs": []
    },
    {
      "cell_type": "markdown",
      "metadata": {
        "id": "9rvYaW3wzgPa"
      },
      "source": [
        "### Gráfico de tasa de acierto del conjunto de entrenamiento y validación"
      ]
    },
    {
      "cell_type": "code",
      "metadata": {
        "id": "FpqITfdWzgPb"
      },
      "source": [
        ""
      ],
      "execution_count": null,
      "outputs": []
    },
    {
      "cell_type": "markdown",
      "metadata": {
        "id": "roT3jd8gncAY"
      },
      "source": [
        "### Visualizar la matriz de pesos resultante\n",
        "Mostrar una imagen con las matrices resultantes para el problema multiclase."
      ]
    },
    {
      "cell_type": "code",
      "metadata": {
        "id": "K0b9JDzlncAa"
      },
      "source": [
        ""
      ],
      "execution_count": null,
      "outputs": []
    },
    {
      "cell_type": "markdown",
      "metadata": {
        "id": "IkLdotHaZJ5g"
      },
      "source": [
        "## 2.3 Pruebas\n",
        "\n",
        "Explicar como se realizarán los experimentos y su pruebas. \n",
        "\n",
        "Los experimentos del conjunto de pruebas dependen de los hiperparámetros obtenidos en el entrenamiento. Explicar como son fijados esos hiperparámetros para el conjunto de prueba."
      ]
    },
    {
      "cell_type": "code",
      "metadata": {
        "id": "Hc2ikAy3ZXIu"
      },
      "source": [
        ""
      ],
      "execution_count": null,
      "outputs": []
    },
    {
      "cell_type": "markdown",
      "metadata": {
        "id": "PfGECQTAXyTd"
      },
      "source": [
        "## 2.4 Resultados\n",
        "\n",
        "Mostrar los resultados del **entrenamiento** y **pruebas**. \n",
        "Utilizar métricas para mostrar bondad del modelo.(Matríz de confusión)\n",
        "Utilizar gráficos. Explicar los resultados obtenidos.\n",
        "\n",
        "### Matriz de confusión\n",
        "\n",
        "Debe construir una para entrenamiento y otra para pruebas\n",
        "\n",
        "|            \t| Perro Pred. \t| Gato Pred. \t |\n",
        "|------------\t|:-------------:|:------------:|\n",
        "| Perro Real \t|      00     \t|     00     \t |\n",
        "| Gato Real  \t|      00     \t|     00     \t |\n",
        "\n",
        "### Métricas\n",
        "\n",
        "Debe construir una para entrenamiento y otra para pruebas\n",
        "\n",
        "|           \t| Clase Perro \t| Clase Gato \t |\n",
        "|-----------\t|:-------------:|:------------:|\n",
        "| Precisión \t|    00.00%  \t  |    00.00%  \t |\n",
        "| Recall    \t|    00.00%    \t|    00.00%  \t |\n",
        "\n",
        "| Tasa de Acierto Global \t| 00.00% \t|\n",
        "|------------------------\t|:------:\t|"
      ]
    },
    {
      "cell_type": "code",
      "metadata": {
        "id": "koA0UEHgZsh3"
      },
      "source": [
        ""
      ],
      "execution_count": null,
      "outputs": []
    },
    {
      "cell_type": "markdown",
      "metadata": {
        "id": "3AENrnGXqMOt"
      },
      "source": [
        "#3. Clasificador red neuronal profunda convolucional\n",
        "\n",
        "Desarrollo de los experimentos para un clasificador basado en redes neuronales profundas. Se utiliza una arquitectura de redes neuronales convolucionales.\n"
      ]
    },
    {
      "cell_type": "markdown",
      "metadata": {
        "id": "VhL2J3ECqMO4"
      },
      "source": [
        "## 3.1 Diseño del modelo propuesto\n",
        "\n",
        "Explicar arquitectura neuronal:\n",
        "* Entrada de datos\n",
        "* Modelo de red neural propuesto\n",
        "* Salida esperada de datos\n",
        "\n",
        "## 3.2 Parámetros y configuración del modelo\n",
        "\n",
        "Explicar los parámetros e hiperparámetros seleccionados para la implementación del modelo, función de pérdida y modelo de optimización."
      ]
    },
    {
      "cell_type": "code",
      "metadata": {
        "id": "qewcXasFqMO5"
      },
      "source": [
        "# Implementar modelo\n",
        "\n",
        "# Configurar hiperparámetros\n",
        "\n",
        "# Configurar función de pérdida\n",
        "\n",
        "# Configurar modelo de optimización"
      ],
      "execution_count": null,
      "outputs": []
    },
    {
      "cell_type": "markdown",
      "metadata": {
        "id": "zdYtQLp8xOK3"
      },
      "source": [
        "## 3.3 Entrenamiento\n",
        "\n",
        "Implementar entrenamiento.\n"
      ]
    },
    {
      "cell_type": "code",
      "metadata": {
        "id": "S-BmivnDxOqa"
      },
      "source": [
        "# Implementar entrenamiento"
      ],
      "execution_count": null,
      "outputs": []
    },
    {
      "cell_type": "markdown",
      "metadata": {
        "id": "oNUEOMLYyoL_"
      },
      "source": [
        "### Gráfico de función de pérdida del conjunto de entrenamiento y validación"
      ]
    },
    {
      "cell_type": "code",
      "metadata": {
        "id": "yJSjf_zHyotg"
      },
      "source": [
        ""
      ],
      "execution_count": null,
      "outputs": []
    },
    {
      "cell_type": "markdown",
      "metadata": {
        "id": "jT19Gu-fyySX"
      },
      "source": [
        "### Gráfico de tasa de acierto del conjunto de entrenamiento y validación"
      ]
    },
    {
      "cell_type": "code",
      "metadata": {
        "id": "TMN32-layyy0"
      },
      "source": [
        ""
      ],
      "execution_count": null,
      "outputs": []
    },
    {
      "cell_type": "markdown",
      "metadata": {
        "id": "DdVNgp21m2Rf"
      },
      "source": [
        "### Visualizar los mapas de activación\n",
        "\n",
        "Mostrar los mapas de activación para un ejemplo de perro y otro para el ejemplo de gato."
      ]
    },
    {
      "cell_type": "code",
      "metadata": {
        "id": "idiqfQqQm2om"
      },
      "source": [
        ""
      ],
      "execution_count": null,
      "outputs": []
    },
    {
      "cell_type": "markdown",
      "metadata": {
        "id": "0dSHQe9DqMO5"
      },
      "source": [
        "## 3.4 Pruebas\n",
        "\n",
        "Explicar como se realizarán los experimentos y su pruebas. \n",
        "\n",
        "Los experimentos del conjunto de pruebas dependen de los hiperparámetros obtenidos en el entrenamiento. Explicar como son fijados esos hiperparámetros para el conjunto de prueba."
      ]
    },
    {
      "cell_type": "code",
      "metadata": {
        "id": "3723D2JeqMO5"
      },
      "source": [
        ""
      ],
      "execution_count": null,
      "outputs": []
    },
    {
      "cell_type": "markdown",
      "metadata": {
        "id": "zOcBI4yNqMO5"
      },
      "source": [
        "## 3.5 Resultados\n",
        "\n",
        "Mostrar los resultados del entrenamiento y pruebas. \n",
        "Utilizar métricas para mostrar bondad del modelo.(Matríz de confusión)\n",
        "Utilizar gráficos. Explicar los resultados obtenidos.\n",
        "\n",
        "Debe construir una para entrenamiento y otra para pruebas\n",
        "\n",
        "|            \t| Perro Pred. \t| Gato Pred. \t |\n",
        "|------------\t|:-------------:|:------------:|\n",
        "| Perro Real \t|      00     \t|     00     \t |\n",
        "| Gato Real  \t|      00     \t|     00     \t |\n",
        "\n",
        "### Métricas\n",
        "\n",
        "Debe construir una para entrenamiento y otra para pruebas\n",
        "\n",
        "|           \t| Clase Perro \t| Clase Gato \t |\n",
        "|-----------\t|:-------------:|:------------:|\n",
        "| Precisión \t|    00.00%  \t  |    00.00%  \t |\n",
        "| Recall    \t|    00.00%    \t|    00.00%  \t |\n",
        "\n",
        "| Tasa de Acierto Global \t| 00.00% \t|\n",
        "|------------------------\t|:------:\t|\n",
        "\n",
        "\n"
      ]
    },
    {
      "cell_type": "code",
      "metadata": {
        "id": "uwy3QoTYqMO5"
      },
      "source": [
        ""
      ],
      "execution_count": null,
      "outputs": []
    },
    {
      "cell_type": "markdown",
      "metadata": {
        "id": "w2XSDxmNZtcS"
      },
      "source": [
        "#4. Conclusiones\n",
        "\n",
        "Conclusiones sobre el uso de la técnica. Ventajas y desventajas. ¿Se cumplen los objetivos del laboratorio?. ¿Como se comparan los resultados con los experimientos hechos en clases para el mismo problema?\n",
        "\n"
      ]
    }
  ]
}